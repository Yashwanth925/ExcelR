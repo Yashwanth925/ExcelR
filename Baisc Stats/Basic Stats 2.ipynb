{
 "cells": [
  {
   "cell_type": "markdown",
   "id": "316f378e",
   "metadata": {},
   "source": [
    "# 1. T-Test"
   ]
  },
  {
   "cell_type": "code",
   "execution_count": 17,
   "id": "6d2574d2",
   "metadata": {},
   "outputs": [],
   "source": [
    "# Import necessary libraries\n",
    "import numpy as np\n",
    "from scipy import stats"
   ]
  },
  {
   "cell_type": "code",
   "execution_count": 20,
   "id": "41d7aa0b",
   "metadata": {},
   "outputs": [],
   "source": [
    "\n",
    "# Given student scores\n",
    "data = np.array([1.13, 1.55, 1.43, 0.92, 1.25, 1.36, 1.32, 0.85, 1.07, 1.48, 1.20, 1.33, 1.18, 1.22, 1.29])\n"
   ]
  },
  {
   "cell_type": "code",
   "execution_count": 29,
   "id": "b9abc0cb",
   "metadata": {},
   "outputs": [
    {
     "name": "stdout",
     "output_type": "stream",
     "text": [
      "    Values\n",
      "0     1.13\n",
      "1     1.55\n",
      "2     1.43\n",
      "3     0.92\n",
      "4     1.25\n",
      "5     1.36\n",
      "6     1.32\n",
      "7     0.85\n",
      "8     1.07\n",
      "9     1.48\n",
      "10    1.20\n",
      "11    1.33\n",
      "12    1.18\n",
      "13    1.22\n",
      "14    1.29\n"
     ]
    }
   ],
   "source": [
    "# Hypothesized population mean\n",
    "df = pd.DataFrame(data)\n",
    "df\n",
    "\n",
    "# Hypothesized population mean\n",
    "df = pd.DataFrame(data)\n",
    "df\n",
    "col_names = ['Values']\n",
    "df.columns = col_names\n",
    "print(df)"
   ]
  },
  {
   "cell_type": "code",
   "execution_count": 28,
   "id": "c60e2b04",
   "metadata": {},
   "outputs": [
    {
     "data": {
      "text/plain": [
       "1.2386666666666666"
      ]
     },
     "execution_count": 28,
     "metadata": {},
     "output_type": "execute_result"
    }
   ],
   "source": [
    "mu=df['Values'].mean()\n",
    "mu"
   ]
  },
  {
   "cell_type": "code",
   "execution_count": 39,
   "id": "172501b0",
   "metadata": {},
   "outputs": [
    {
     "name": "stdout",
     "output_type": "stream",
     "text": [
      "T statistic: 0.0\n",
      "P-value: 1.0\n"
     ]
    }
   ],
   "source": [
    "# Perform one-sample t-test\n",
    "tstat, pvalue = stats.ttest_1samp(df['Values'], mu)\n",
    "print(\"T statistic:\", tstat)\n",
    "print(\"P-value:\", pvalue)"
   ]
  },
  {
   "cell_type": "code",
   "execution_count": 40,
   "id": "7458593c",
   "metadata": {},
   "outputs": [
    {
     "name": "stdout",
     "output_type": "stream",
     "text": [
      "H1 is rejected and H0 is accepted\n"
     ]
    }
   ],
   "source": [
    "alpha = 0.01\n",
    "if pvalue < alpha:\n",
    "    print(\"H0 is rejected and H1 is accepted\")\n",
    "else:\n",
    "    print(\"H1 is rejected and H0 is accepted\")"
   ]
  },
  {
   "cell_type": "markdown",
   "id": "b900be70",
   "metadata": {},
   "source": [
    "# 2. Z-Test"
   ]
  },
  {
   "cell_type": "code",
   "execution_count": 1,
   "id": "16b4b139",
   "metadata": {},
   "outputs": [],
   "source": [
    "from scipy.stats import binom\n",
    "from scipy.stats import norm\n",
    "import numpy as np\n",
    "import pandas as pd\n",
    "from scipy import stats\n",
    "from statsmodels.stats import weightstats as ztests"
   ]
  },
  {
   "cell_type": "code",
   "execution_count": 2,
   "id": "62c8b49a",
   "metadata": {},
   "outputs": [],
   "source": [
    "\n",
    "# Given student scores\n",
    "data = np.array([1.13, 1.55, 1.43, 0.92, 1.25, 1.36, 1.32, 0.85, 1.07, 1.48, 1.20, 1.33, 1.18, 1.22, 1.29])\n"
   ]
  },
  {
   "cell_type": "code",
   "execution_count": 3,
   "id": "a5dc416f",
   "metadata": {},
   "outputs": [
    {
     "name": "stdout",
     "output_type": "stream",
     "text": [
      "    Values\n",
      "0     1.13\n",
      "1     1.55\n",
      "2     1.43\n",
      "3     0.92\n",
      "4     1.25\n",
      "5     1.36\n",
      "6     1.32\n",
      "7     0.85\n",
      "8     1.07\n",
      "9     1.48\n",
      "10    1.20\n",
      "11    1.33\n",
      "12    1.18\n",
      "13    1.22\n",
      "14    1.29\n"
     ]
    }
   ],
   "source": [
    "# Hypothesized population mean\n",
    "df = pd.DataFrame(data)\n",
    "df\n",
    "\n",
    "# Hypothesized population mean\n",
    "df = pd.DataFrame(data)\n",
    "df\n",
    "col_names = ['Values']\n",
    "df.columns = col_names\n",
    "print(df)"
   ]
  },
  {
   "cell_type": "code",
   "execution_count": 4,
   "id": "254900bd",
   "metadata": {},
   "outputs": [
    {
     "name": "stdout",
     "output_type": "stream",
     "text": [
      "1.2386666666666666\n"
     ]
    }
   ],
   "source": [
    "mu=df['Values'].mean()\n",
    "print(mu)\n",
    "\n",
    "zcalc,pvalue = ztests.ztest(df['Values'],value = 1,alternative = 'smaller')"
   ]
  },
  {
   "cell_type": "code",
   "execution_count": 5,
   "id": "863ef575",
   "metadata": {},
   "outputs": [
    {
     "name": "stdout",
     "output_type": "stream",
     "text": [
      "Z calculated value : 4.785319237864924\n",
      "P value : 0.9999991464211515\n"
     ]
    }
   ],
   "source": [
    "print(\"Z calculated value :\",zcalc)\n",
    "print(\"P value :\",pvalue)"
   ]
  },
  {
   "cell_type": "code",
   "execution_count": 6,
   "id": "2eda54a3",
   "metadata": {},
   "outputs": [
    {
     "name": "stdout",
     "output_type": "stream",
     "text": [
      "H1 is rejected and H0 is accepted\n"
     ]
    }
   ],
   "source": [
    "alpha = 0.01\n",
    "if pvalue < alpha:\n",
    "    print(\"H0 is rejected and H1 is accepted\")\n",
    "else:\n",
    "    print(\"H1 is rejected and H0 is accepted\")"
   ]
  },
  {
   "cell_type": "code",
   "execution_count": null,
   "id": "6f7b3b8e",
   "metadata": {},
   "outputs": [],
   "source": []
  }
 ],
 "metadata": {
  "kernelspec": {
   "display_name": "Python 3 (ipykernel)",
   "language": "python",
   "name": "python3"
  },
  "language_info": {
   "codemirror_mode": {
    "name": "ipython",
    "version": 3
   },
   "file_extension": ".py",
   "mimetype": "text/x-python",
   "name": "python",
   "nbconvert_exporter": "python",
   "pygments_lexer": "ipython3",
   "version": "3.9.12"
  }
 },
 "nbformat": 4,
 "nbformat_minor": 5
}
