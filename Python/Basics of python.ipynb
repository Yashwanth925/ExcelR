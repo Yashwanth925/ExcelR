{
 "cells": [
  {
   "cell_type": "markdown",
   "id": "b1c26159",
   "metadata": {},
   "source": [
    "# 1. Prime Number"
   ]
  },
  {
   "cell_type": "code",
   "execution_count": 2,
   "id": "910b90b0",
   "metadata": {},
   "outputs": [
    {
     "name": "stdout",
     "output_type": "stream",
     "text": [
      "Enter a number: 69\n",
      "69 is not a prime number\n"
     ]
    }
   ],
   "source": [
    "num = int(input(\"Enter a number: \"))\n",
    "if num > 1:\n",
    "    for i in range(2, (num//2)+1):\n",
    "        if (num % i) == 0:\n",
    "            print(num, \"is not a prime number\")\n",
    "            break\n",
    "    else:\n",
    "        print(num, \"is a prime number\")\n",
    "else:\n",
    "    print(num, \"is not a prime number\")\n"
   ]
  },
  {
   "cell_type": "markdown",
   "id": "a0b5c640",
   "metadata": {},
   "source": [
    "# 2. Product of Random Numbers"
   ]
  },
  {
   "cell_type": "code",
   "execution_count": 5,
   "id": "05704496",
   "metadata": {},
   "outputs": [
    {
     "name": "stdout",
     "output_type": "stream",
     "text": [
      "What is the product of 3 and 4? 12\n",
      "Correct!\n"
     ]
    }
   ],
   "source": [
    "import random\n",
    "\n",
    "num1 = random.randint(1, 10)\n",
    "num2 = random.randint(1, 10)\n",
    "\n",
    "product = int(input(f\"What is the product of {num1} and {num2}? \"))\n",
    "\n",
    "if product == num1 * num2:\n",
    "    print(\"Correct!\")\n",
    "else:\n",
    "    print(\"Incorrect!\")\n"
   ]
  },
  {
   "cell_type": "markdown",
   "id": "fb3b3fc0",
   "metadata": {},
   "source": [
    "# 3. Squares of Even/Odd Numbers\n"
   ]
  },
  {
   "cell_type": "code",
   "execution_count": 7,
   "id": "362e0570",
   "metadata": {},
   "outputs": [
    {
     "name": "stdout",
     "output_type": "stream",
     "text": [
      "Squares of Even Numbers:\n",
      "100 squared is 10000\n",
      "102 squared is 10404\n",
      "104 squared is 10816\n",
      "106 squared is 11236\n",
      "108 squared is 11664\n",
      "110 squared is 12100\n",
      "112 squared is 12544\n",
      "114 squared is 12996\n",
      "116 squared is 13456\n",
      "118 squared is 13924\n",
      "120 squared is 14400\n",
      "122 squared is 14884\n",
      "124 squared is 15376\n",
      "126 squared is 15876\n",
      "128 squared is 16384\n",
      "130 squared is 16900\n",
      "132 squared is 17424\n",
      "134 squared is 17956\n",
      "136 squared is 18496\n",
      "138 squared is 19044\n",
      "140 squared is 19600\n",
      "142 squared is 20164\n",
      "144 squared is 20736\n",
      "146 squared is 21316\n",
      "148 squared is 21904\n",
      "150 squared is 22500\n",
      "152 squared is 23104\n",
      "154 squared is 23716\n",
      "156 squared is 24336\n",
      "158 squared is 24964\n",
      "160 squared is 25600\n",
      "162 squared is 26244\n",
      "164 squared is 26896\n",
      "166 squared is 27556\n",
      "168 squared is 28224\n",
      "170 squared is 28900\n",
      "172 squared is 29584\n",
      "174 squared is 30276\n",
      "176 squared is 30976\n",
      "178 squared is 31684\n",
      "180 squared is 32400\n",
      "182 squared is 33124\n",
      "184 squared is 33856\n",
      "186 squared is 34596\n",
      "188 squared is 35344\n",
      "190 squared is 36100\n",
      "192 squared is 36864\n",
      "194 squared is 37636\n",
      "196 squared is 38416\n",
      "198 squared is 39204\n",
      "200 squared is 40000\n"
     ]
    }
   ],
   "source": [
    "print(\"Squares of Even Numbers:\")\n",
    "for i in range(100, 201):\n",
    "    if i % 2 == 0:\n",
    "        print(f\"{i} squared is {i**2}\")"
   ]
  },
  {
   "cell_type": "code",
   "execution_count": 8,
   "id": "97ed97d9",
   "metadata": {},
   "outputs": [
    {
     "name": "stdout",
     "output_type": "stream",
     "text": [
      "Squares of Odd Numbers:\n",
      "101 squared is 10201\n",
      "103 squared is 10609\n",
      "105 squared is 11025\n",
      "107 squared is 11449\n",
      "109 squared is 11881\n",
      "111 squared is 12321\n",
      "113 squared is 12769\n",
      "115 squared is 13225\n",
      "117 squared is 13689\n",
      "119 squared is 14161\n",
      "121 squared is 14641\n",
      "123 squared is 15129\n",
      "125 squared is 15625\n",
      "127 squared is 16129\n",
      "129 squared is 16641\n",
      "131 squared is 17161\n",
      "133 squared is 17689\n",
      "135 squared is 18225\n",
      "137 squared is 18769\n",
      "139 squared is 19321\n",
      "141 squared is 19881\n",
      "143 squared is 20449\n",
      "145 squared is 21025\n",
      "147 squared is 21609\n",
      "149 squared is 22201\n",
      "151 squared is 22801\n",
      "153 squared is 23409\n",
      "155 squared is 24025\n",
      "157 squared is 24649\n",
      "159 squared is 25281\n",
      "161 squared is 25921\n",
      "163 squared is 26569\n",
      "165 squared is 27225\n",
      "167 squared is 27889\n",
      "169 squared is 28561\n",
      "171 squared is 29241\n",
      "173 squared is 29929\n",
      "175 squared is 30625\n",
      "177 squared is 31329\n",
      "179 squared is 32041\n",
      "181 squared is 32761\n",
      "183 squared is 33489\n",
      "185 squared is 34225\n",
      "187 squared is 34969\n",
      "189 squared is 35721\n",
      "191 squared is 36481\n",
      "193 squared is 37249\n",
      "195 squared is 38025\n",
      "197 squared is 38809\n",
      "199 squared is 39601\n"
     ]
    }
   ],
   "source": [
    "print(\"Squares of Odd Numbers:\")\n",
    "for i in range(100, 201):\n",
    "    if i % 2 != 0:\n",
    "        print(f\"{i} squared is {i**2}\")"
   ]
  },
  {
   "cell_type": "markdown",
   "id": "97dbd25c",
   "metadata": {},
   "source": [
    "# 4. Word Count"
   ]
  },
  {
   "cell_type": "code",
   "execution_count": 11,
   "id": "dd5678ae",
   "metadata": {},
   "outputs": [
    {
     "name": "stdout",
     "output_type": "stream",
     "text": [
      "'This': 2\n",
      "'is': 1\n",
      "'a': 1\n",
      "'sample': 1\n",
      "'text.': 1\n",
      "'text': 1\n",
      "'will': 1\n",
      "'be': 1\n",
      "'used': 1\n",
      "'to': 1\n",
      "'demonstrate': 1\n",
      "'the': 1\n",
      "'word': 1\n",
      "'counter.': 1\n"
     ]
    }
   ],
   "source": [
    "input_text = \"This is a sample text. This text will be used to demonstrate the word counter.\"\n",
    "words = input_text.split()\n",
    "word_count = {}\n",
    "for word in words:\n",
    "    word_count[word] = word_count.get(word, 0) + 1\n",
    "for word, count in word_count.items():\n",
    "    print(f\"'{word}': {count}\")\n"
   ]
  },
  {
   "cell_type": "markdown",
   "id": "8f023670",
   "metadata": {},
   "source": [
    "# 5. Palindrome"
   ]
  },
  {
   "cell_type": "code",
   "execution_count": 15,
   "id": "de0aafa9",
   "metadata": {},
   "outputs": [
    {
     "name": "stdout",
     "output_type": "stream",
     "text": [
      "Enter a word: MOM\n",
      "Yes,It is a palindrome\n"
     ]
    }
   ],
   "source": [
    "def isPalindrome(s):\n",
    "    return s == s[::-1]\n",
    "s = input(\"Enter a word: \")\n",
    "ans = isPalindrome(s)\n",
    "\n",
    "if ans:\n",
    "    print(\"Yes,It is a palindrome\")\n",
    "else:\n",
    "    print(\"No,It is not a Palindrome\")\n"
   ]
  }
 ],
 "metadata": {
  "kernelspec": {
   "display_name": "Python 3 (ipykernel)",
   "language": "python",
   "name": "python3"
  },
  "language_info": {
   "codemirror_mode": {
    "name": "ipython",
    "version": 3
   },
   "file_extension": ".py",
   "mimetype": "text/x-python",
   "name": "python",
   "nbconvert_exporter": "python",
   "pygments_lexer": "ipython3",
   "version": "3.9.12"
  }
 },
 "nbformat": 4,
 "nbformat_minor": 5
}
